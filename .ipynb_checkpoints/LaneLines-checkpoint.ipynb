{
 "cells": [
  {
   "cell_type": "code",
   "execution_count": null,
   "metadata": {
    "collapsed": false,
    "deletable": true,
    "editable": true,
    "scrolled": false
   },
   "outputs": [],
   "source": [
    "from secret_sauce import *\n",
    "from lines_code import *\n",
    "from my_widgets import *\n",
    "from ipywidgets import fixed, interact\n",
    "%matplotlib inline\n",
    "\n",
    "\"\"\"\n",
    "We are going to use two example images to test our code on! \n",
    "\n",
    "TO DO: \n",
    " - Hold down 'SHIFT' and press 'ENTER' to see the images\n",
    "\"\"\"\n",
    "\n",
    "show_images(white_lines, yellow_lines)"
   ]
  },
  {
   "cell_type": "code",
   "execution_count": null,
   "metadata": {
    "collapsed": false,
    "deletable": true,
    "editable": true
   },
   "outputs": [],
   "source": [
    "\"\"\"\n",
    "Let's find color thresholds! \n",
    "\n",
    "TO DO: \n",
    " - Hold down 'SHIFT' and press 'ENTER' again.\n",
    "\"\"\"\n",
    "w = interact(show_color_threshold_results, red=red_widget, blue=blue_widget, green=green_widget)"
   ]
  },
  {
   "cell_type": "code",
   "execution_count": null,
   "metadata": {
    "collapsed": false,
    "deletable": true,
    "editable": true,
    "scrolled": false
   },
   "outputs": [],
   "source": [
    "\"\"\"\n",
    "Let's find Canny edge thresholds! \n",
    "\n",
    "TO DO: \n",
    " - Hold down 'SHIFT' and press 'ENTER' again.\n",
    "\"\"\"\n",
    "w = interact(show_edge_detection_results, low_threshold=low_widget, high_threshold=high_widget)"
   ]
  },
  {
   "cell_type": "code",
   "execution_count": null,
   "metadata": {
    "collapsed": false,
    "deletable": true,
    "editable": true
   },
   "outputs": [],
   "source": [
    "\"\"\"\n",
    "Now we are going to put these thresholds together in a function!\n",
    "\n",
    "TO DO:\n",
    " - Enter the numbers you got in the first two sections into the python code below\n",
    " - Then hold down 'SHIFT' and press 'ENTER' to see the results\n",
    " - To try different numbers, edit again, and press SHIFT+ENTER again!\n",
    "\"\"\"\n",
    "\n",
    "def threshold_image(image):\n",
    "    \n",
    "    \"\"\" ------------- START EDITING HERE ------------- \"\"\"\n",
    "    low_red_threshold = ?\n",
    "    high_red_threshold = ?\n",
    "\n",
    "    low_blue_threshold = ?\n",
    "    high_blue_threshold = ?\n",
    "\n",
    "    low_green_threshold = ?\n",
    "    high_green_threshold = ?\n",
    "\n",
    "    low_edge_threshold = ?\n",
    "    high_edge_threshold = ?\n",
    "    \"\"\" ------------- STOP EDITING HERE ------------- \"\"\"\n",
    "\n",
    "    # The 'apply_masks' function will take in an image (for example, 'white_lines'), and output the\n",
    "    # result of apply the color and edge masks!\n",
    "    return apply_masks(image, \n",
    "                       low_red_threshold, high_red_threshold, \n",
    "                       low_blue_threshold, high_blue_threshold,\n",
    "                       low_green_threshold, high_green_threshold, \n",
    "                       low_edge_threshold, high_edge_threshold)\n",
    "\n",
    "show_images(white_lines, threshold_image(white_lines), yellow_lines, threshold_image(yellow_lines))"
   ]
  },
  {
   "cell_type": "code",
   "execution_count": null,
   "metadata": {
    "collapsed": false,
    "deletable": true,
    "editable": true,
    "scrolled": false
   },
   "outputs": [],
   "source": [
    "\"\"\"\n",
    "We only look at a small part of the image to find lane lines - no need to look for lane lines in the sky!\n",
    "We call this the \"REGION OF INTEREST\"\n",
    "\n",
    "Let's find good numbers to define this!\n",
    "\n",
    "TO DO:\n",
    " - Hold down 'SHIFT' and press 'ENTER' to see the region in which we look for lane lines\n",
    "\"\"\"\n",
    "w = interact(show_regions_of_interest, \n",
    "             top_height=height_widget, \n",
    "             bottom_width=bottom_width_widget, \n",
    "             top_width=top_width_widget)"
   ]
  },
  {
   "cell_type": "code",
   "execution_count": null,
   "metadata": {
    "collapsed": false,
    "deletable": true,
    "editable": true
   },
   "outputs": [],
   "source": [
    "\"\"\"\n",
    "Let's write a function to apply remove everything outside of our ROI from an image\n",
    "\n",
    "TO DO:\n",
    " - Enter the numbers you got in the previous section into the python code below\n",
    " - Then hold down 'SHIFT' and press 'ENTER' to see the results\n",
    " - To try different numbers, edit again, and press SHIFT+ENTER again!\n",
    "\"\"\"\n",
    "\n",
    "def region_of_interest(image):\n",
    "    \"\"\" ------------- START EDITING HERE ------------- \"\"\"\n",
    "    top_height = ?\n",
    "    bottom_width = ?\n",
    "    top_width = ?\n",
    "    \"\"\" ------------- STOP EDITING HERE ------------- \"\"\"\n",
    "    \n",
    "    vertices = get_vertices(top_height, bottom_width, top_width)\n",
    "    \n",
    "    return mask_roi(image, vertices)\n",
    "\n",
    "white_masked_image = region_of_interest(threshold_image(white_lines))\n",
    "yellow_masked_image = region_of_interest(threshold_image(yellow_lines))\n",
    "\n",
    "show_images(white_lines, white_masked_image, yellow_lines, yellow_masked_image)"
   ]
  },
  {
   "cell_type": "code",
   "execution_count": null,
   "metadata": {
    "collapsed": false,
    "deletable": true,
    "editable": true
   },
   "outputs": [],
   "source": [
    "\"\"\"\n",
    "Let's find thresholds for hough lines! \n",
    "\n",
    "TO DO: \n",
    " - Hold down 'SHIFT' and press 'ENTER' again.\n",
    "\"\"\"\n",
    "\n",
    "w = interact(show_hough_lines, masked_image1=fixed(white_masked_image), masked_image2=fixed(yellow_masked_image),\n",
    "            min_line_length=min_line_widget, max_line_gap=max_line_widget)"
   ]
  },
  {
   "cell_type": "code",
   "execution_count": null,
   "metadata": {
    "collapsed": false,
    "deletable": true,
    "editable": true,
    "scrolled": false
   },
   "outputs": [],
   "source": [
    "\"\"\"\n",
    "Now we will write a function to draw lines on an image\n",
    "\n",
    "TO DO:\n",
    " - Fill in 'min_line_length' with the values you found in \"Minimum Pixels for a Line\"\n",
    " - Fill in 'max_line_gap' with the values you found in \"Maximum Gap in a Line\"\n",
    " - Fill in 'color' with any color, represented as three numbers in parentheses\n",
    "     - For example, 'color = (255, 0, 0)'\n",
    "     - Some color codes are:\n",
    "         * red : (255, 0, 0)\n",
    "         * blue: (0, 255, 0)\n",
    "         * green: (0, 0, 255)\n",
    "         * magenta: (255, 0, 255)\n",
    "         * light blue: (0, 255, 255)\n",
    "         * purple: (80, 20, 255)\n",
    "         * teal: (0, 255, 70)\n",
    " - Fill in 'thickness' with how thick you want your lane lines to be drawn, in number of pixels\n",
    "     (We recommend around 5-10)\n",
    " - Hold down 'SHIFT' and press 'ENTER' again to see lane lines drawn on the images\n",
    "\"\"\"\n",
    "\n",
    "def draw_lines(original_image, masked_image):\n",
    "    # Now we combine lines from our HOUGH results above to get two lines corresponding to the lane lines\n",
    "    # Insert the thresholds you found in the next few lines!\n",
    "    \n",
    "    \"\"\" ------------- START EDITING HERE ------------- \"\"\"\n",
    "    min_line_length = ?\n",
    "    max_line_gap = ?\n",
    "    \n",
    "    color = (?, ?, ?)\n",
    "    \n",
    "    thickness = ?\n",
    "    \"\"\" ------------- STOP EDITING HERE ------------- \"\"\"\n",
    "\n",
    "    # We get the hough lines using 'get_hough_lines'\n",
    "    hough_lines = get_hough_lines(masked_image, min_line_length, max_line_gap)\n",
    "\n",
    "    # Then we've written a function to find the two lane lines from these lines\n",
    "    lines = get_lane_lines(hough_lines, masked_image.shape)\n",
    "    \n",
    "    line_image = np.copy(original_image) * 0\n",
    "    for l in lines:\n",
    "        cv2.line(line_image, (l[0][0], l[0][1]), (l[0][2], l[0][3]), color, thickness)\n",
    "    return cv2.addWeighted(line_image, 2.0, original_image, 0.7, 0)\n",
    "\n",
    "show_images(white_lines, draw_lines(white_lines, white_masked_image),\n",
    "           yellow_lines, draw_lines(yellow_lines, yellow_masked_image))"
   ]
  },
  {
   "cell_type": "code",
   "execution_count": null,
   "metadata": {
    "collapsed": false,
    "deletable": true,
    "editable": true
   },
   "outputs": [],
   "source": [
    "\"\"\"\n",
    "Combine the functions we've written so far to make one easy-to-use function to get lane lines.\n",
    "\n",
    "TO DO: \n",
    " - Hold down 'SHIFT' and press 'ENTER' to double check your results!\n",
    "\"\"\"\n",
    "def pipeline(image):\n",
    "    \n",
    "    \n",
    "    # Use our function to get the color and edge thresholded image\n",
    "    thresholded_image = threshold_image(image)\n",
    "    \n",
    "    # Next, use our function to mask the thresholded_image based on the region of interest (ROI)\n",
    "    masked_image = region_of_interest(thresholded_image)\n",
    "    \n",
    "    # Next, use our function to draw the lane lines on the image!\n",
    "    final_result = draw_lines(image, masked_image)\n",
    "    \n",
    "\n",
    "    return final_result\n",
    "\n",
    "show_images(white_lines, pipeline(white_lines),\n",
    "           yellow_lines, pipeline(yellow_lines))"
   ]
  },
  {
   "cell_type": "code",
   "execution_count": null,
   "metadata": {
    "collapsed": false,
    "deletable": true,
    "editable": true
   },
   "outputs": [],
   "source": [
    "\"\"\"\n",
    "Now we will run your code on a video to get the lane lines over time!\n",
    "\n",
    "TO DO: \n",
    " - Hold down 'SHIFT' and press 'ENTER' to create your video\n",
    "\"\"\"\n",
    "from moviepy.editor import VideoFileClip\n",
    "from IPython.display import HTML\n",
    "output = 'white.mp4'\n",
    "clip = VideoFileClip(\"solidWhiteRight.mp4\")\n",
    "white_clip = clip.fl_image(pipeline)\n",
    "%time white_clip.write_videofile(output, audio=False)"
   ]
  },
  {
   "cell_type": "code",
   "execution_count": null,
   "metadata": {
    "collapsed": false,
    "deletable": true,
    "editable": true
   },
   "outputs": [],
   "source": [
    "\"\"\"\n",
    "Play the video!\n",
    "\n",
    "TO DO: \n",
    " - Wait for the above section to be done (you'll see the line '[MoviePy] Done.')\n",
    " - Hold down 'SHIFT' and press 'ENTER' to play your video\n",
    "\"\"\"\n",
    "HTML(\"\"\"\n",
    "<video width=\"960\" height=\"540\" controls>\n",
    "  <source src=\"{0}\">\n",
    "</video>\n",
    "\"\"\".format(output))"
   ]
  }
 ],
 "metadata": {
  "kernelspec": {
   "display_name": "Python 3",
   "language": "python",
   "name": "python3"
  },
  "language_info": {
   "codemirror_mode": {
    "name": "ipython",
    "version": 3
   },
   "file_extension": ".py",
   "mimetype": "text/x-python",
   "name": "python",
   "nbconvert_exporter": "python",
   "pygments_lexer": "ipython3",
   "version": "3.5.2"
  },
  "widgets": {
   "state": {},
   "version": "1.1.2"
  }
 },
 "nbformat": 4,
 "nbformat_minor": 2
}
