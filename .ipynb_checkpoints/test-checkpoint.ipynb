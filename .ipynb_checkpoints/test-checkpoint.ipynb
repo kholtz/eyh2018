{
 "cells": [
  {
   "cell_type": "code",
   "execution_count": null,
   "metadata": {
    "collapsed": false,
    "scrolled": true
   },
   "outputs": [],
   "source": [
    "from secret_sauce import *\n",
    "from ipywidgets import interact\n",
    "%matplotlib inline\n",
    "\n",
    "w = interact(apply_color_thresholds, red=red_widget, blue=blue_widget, green=green_widget)"
   ]
  }
 ],
 "metadata": {
  "kernelspec": {
   "display_name": "Python 3",
   "language": "python",
   "name": "python3"
  },
  "language_info": {
   "codemirror_mode": {
    "name": "ipython",
    "version": 3
   },
   "file_extension": ".py",
   "mimetype": "text/x-python",
   "name": "python",
   "nbconvert_exporter": "python",
   "pygments_lexer": "ipython3",
   "version": "3.5.2"
  },
  "widgets": {
   "state": {
    "00919c79734f420891a060f4309a59d8": {
     "views": []
    },
    "00b63d5f625649e8b54bc4b0e95ceaf5": {
     "views": []
    },
    "00e79563c6934c758ce61fc5b2ad9a2e": {
     "views": []
    },
    "03bde83d66244c3bb053ca17358c8f58": {
     "views": []
    },
    "04924db829994e4fbc4d1e01cf221dc2": {
     "views": []
    },
    "07126bd91dcf42b79563ecd5f6eb42ba": {
     "views": []
    },
    "082a161084e04e539c221ed2e79822a1": {
     "views": []
    },
    "0978f42b7028424abf11f51e577efa6d": {
     "views": []
    },
    "09b752628190450ea25982681902164a": {
     "views": []
    },
    "0a286de7b2174d0fae56bcd74acd251a": {
     "views": []
    },
    "0a4241b00d5d43a897c2dcc9becd0b55": {
     "views": []
    },
    "0b1c23f2e2db414a9eb04be8c0a3dd42": {
     "views": []
    },
    "0b3c6683df3640f5b9aff0d88b1c24ab": {
     "views": []
    },
    "0c416d55332d4dbc8edaf62de05b17f7": {
     "views": []
    },
    "0d4649844ece4c80968f682309420dd2": {
     "views": []
    },
    "0d7bdfc2938b4a739048de9e9cf76e4f": {
     "views": []
    },
    "0e060e31efd045419659200c1bb35f68": {
     "views": []
    },
    "0efb75883c1a4cd7a0e56e6db5e2d3c5": {
     "views": []
    },
    "12a4eb1c44434f0093c9ede8c2db457f": {
     "views": []
    },
    "133ce57bf6ae412e97101d8ebc2b881f": {
     "views": []
    },
    "15c26a6ced8d4651804dee50812395c5": {
     "views": []
    },
    "1634f72b13ae4f6a9f608bd3960a7c15": {
     "views": []
    },
    "17f6483c2a7049829a692a6c06cf80a1": {
     "views": []
    },
    "184db96e9a8a49969ba77fa872fe9ba6": {
     "views": []
    },
    "1933c55c396247e19ef92145c9fcc2de": {
     "views": []
    },
    "1a7009a84a2143f194c2716f662c8c01": {
     "views": []
    },
    "1b18bf6156d34639aeb1e772dd4a4224": {
     "views": []
    },
    "1b8301686ca04e81acc10452972cad08": {
     "views": []
    },
    "1e7d03b72093493f8df77cffc8e4d4c3": {
     "views": []
    },
    "1efb4a799f294e18a374eef8fbcd1e94": {
     "views": []
    },
    "1f9ed010f59b44bfb58a1bbb442fee76": {
     "views": []
    },
    "21eae28bd32f40578bafe47dba5f097b": {
     "views": []
    },
    "22bc1cd720384bbfa584e9e9f2ba6826": {
     "views": []
    },
    "240911b4bec5449bbc9e785e705f0b58": {
     "views": []
    },
    "241afe2bb16f4698ad06fad335cf58e3": {
     "views": []
    },
    "28b1e9fa38134a60974c9cdc0adea618": {
     "views": []
    },
    "28f364fcdd554808b648e4b589b34cd7": {
     "views": []
    },
    "2b78f99bde854dfe8763a5763ab1f2ba": {
     "views": []
    },
    "2da5ebcfa5644191b6df360fa4e48534": {
     "views": []
    },
    "2dbe2e3ead8045a19b8b6e615760b971": {
     "views": []
    },
    "2e19292ef95b4848b5e0c9e688226e44": {
     "views": []
    },
    "2faa663480a44b70b0387603121d2636": {
     "views": []
    },
    "300a316985df459fb58f19de5b76076f": {
     "views": []
    },
    "3181fb5807ac4afaa48128cde222b51c": {
     "views": []
    },
    "3239f70e5cde49e0b826b1a93fbe59aa": {
     "views": []
    },
    "32d95e10e0dd453293a925b4323986ce": {
     "views": []
    },
    "338c2dc7c04a48f38567d5a665606b5b": {
     "views": []
    },
    "3421cb4658da4361906330b14b7220e0": {
     "views": []
    },
    "37af4d1b6e5041e6a2caeba3bd698279": {
     "views": []
    },
    "3bd533dc83cb474995ace15712f94204": {
     "views": []
    },
    "3d3a86837ea74550aee3118231d7d723": {
     "views": []
    },
    "3e729d56e7cb4030acb4a1838477223d": {
     "views": []
    },
    "3e7b24eeeffb4a689042c5ece2414f47": {
     "views": []
    },
    "3ff6313b06b44e6d87d0597308cbbc99": {
     "views": []
    },
    "42b17c7dc21949009ba53945798f6b78": {
     "views": []
    },
    "435bf4f3176f4af4922b882912ee0bb7": {
     "views": []
    },
    "43b8eb4c755f431ea45b17467906d6b5": {
     "views": []
    },
    "440e486343d74869949b6855beb66e55": {
     "views": []
    },
    "460cac8441234a1789d849e2ffd1c46f": {
     "views": []
    },
    "4872745e37f44eb983f8af33e44c4104": {
     "views": []
    },
    "49125dd873db44118df1350d56f8428e": {
     "views": []
    },
    "4ae7a5ae63234a0ca4a8f6b3a259c8b3": {
     "views": []
    },
    "4b28f41c9a934092a0fc7d6ba7d44e1f": {
     "views": []
    },
    "4b4468b8913d4e20aec3d704fd9aebff": {
     "views": []
    },
    "4cbd4dfccf30444289fa7562c1228644": {
     "views": []
    },
    "4dae69e9ebef447bb950f785ff629f8f": {
     "views": []
    },
    "4dc2e7f67cb248e29ee25129b88cf4fb": {
     "views": []
    },
    "4ed6fb1490654279b703d2b56887d77d": {
     "views": []
    },
    "4fdec368fe574d56bbdaf299cd5e9f1d": {
     "views": []
    },
    "500fce7d204e49d9aa66018b9ace2748": {
     "views": []
    },
    "50236b5567f84acbb526b17c6e8383c4": {
     "views": []
    },
    "52df55eb00f243a4808dae77ac3083f9": {
     "views": []
    },
    "54efb0505bd246a8a0e692b85afde509": {
     "views": []
    },
    "56953c1cdc894ab0818e3d9e93f9342d": {
     "views": []
    },
    "56e21f7c6e80492a99eb85df2060bdf3": {
     "views": []
    },
    "57fa275954dd4ad1a956f1c950560455": {
     "views": []
    },
    "58e1735b12da445e88f8af20214c746d": {
     "views": []
    },
    "599c2ebca3c642dd99573a4a5a78be9a": {
     "views": []
    },
    "5befb5196192410580f5590a41c79134": {
     "views": []
    },
    "5d080e701b7b4d70aab5795f3b7a3822": {
     "views": []
    },
    "5e679372561b4f62ba3114380cd1d227": {
     "views": []
    },
    "5e67c1a220964ea3b1a059a80c3f5db9": {
     "views": []
    },
    "60110130a432463f8fd487efd4d371e4": {
     "views": []
    },
    "605fe96fbac240998f4fff8d5e655f01": {
     "views": []
    },
    "61285acd4b6b46f0b6ff8aedf451ac8e": {
     "views": []
    },
    "6182715fd1e14bcaa0e2d2e0b3afce69": {
     "views": []
    },
    "61f4edf7815c4c7ca581753c0103e458": {
     "views": []
    },
    "6288e933b7f84598be0f744b0e4a3f94": {
     "views": []
    },
    "63f749f165fe48eb981553255f7163f0": {
     "views": []
    },
    "643729b9a0d845cfb5f1bf49ac5f9001": {
     "views": []
    },
    "64455ce37bf9447b911dcdd725c6bdbf": {
     "views": []
    },
    "651267bf2f814c50ba0581bc52e9f625": {
     "views": []
    },
    "6560f239b7bd4d06832028894e26f07f": {
     "views": []
    },
    "65b10bf1da8b4ae08c784c64651abca1": {
     "views": []
    },
    "65e3a38756204ccd80717d00c881d706": {
     "views": []
    },
    "677d3e24242d4d29841fdd50f5a421de": {
     "views": []
    },
    "68217612a1e34bf39cf8e526bb94285d": {
     "views": []
    },
    "6885a3aa23bc4ed49aba892a16969646": {
     "views": []
    },
    "6c7c0f47491d4d70ba0e88c56b5e29dc": {
     "views": []
    },
    "6d45cefc0b93487b98eb4ef49007fabc": {
     "views": []
    },
    "6e86890c53494269b5a29940861925be": {
     "views": []
    },
    "6ef70328e61441a189deca46e738e916": {
     "views": []
    },
    "6f0c424baa6d43cb90c138bdad092989": {
     "views": []
    },
    "6f4b5df096604d898803eb644d381551": {
     "views": []
    },
    "6fa067899851400ea44919e1cee73760": {
     "views": []
    },
    "72f86bd7b3cd4936bcc23b990c3ec760": {
     "views": []
    },
    "752c88fc9f074094aea36b3b60265136": {
     "views": []
    },
    "753df74ac3ce4bfc81cbb4ab0af5fbfb": {
     "views": []
    },
    "75f47f02be6d4412aa8582c4bcb71a76": {
     "views": []
    },
    "78cee6ad0184479ebc75c51afb3aa571": {
     "views": []
    },
    "7a595416032247f6a8f24dd0642d8b21": {
     "views": []
    },
    "7bc4eeae81b240cfb8a54332afa20f53": {
     "views": []
    },
    "7dff180a968543f88a49fa131429358c": {
     "views": []
    },
    "7ecdeeac8b5f48179e3f288d0bf22f23": {
     "views": []
    },
    "7f00e330112b4a82ae197aa175d59a5a": {
     "views": []
    },
    "806a891835ec456dac9a239dc0cff976": {
     "views": []
    },
    "824aba0cfae64224b6692a1d9e22bb15": {
     "views": []
    },
    "8399d9b378984feeaad43687ef098a5c": {
     "views": []
    },
    "8487dd065f734935abb977a707ddca2c": {
     "views": []
    },
    "858caa09ee92439ca6154807c9077434": {
     "views": []
    },
    "8640084413f8411898757202220b057e": {
     "views": []
    },
    "87fce2a2f9ab4373a98014e23d404e42": {
     "views": []
    },
    "890fdd42b2f1462aaa31851002ca4352": {
     "views": []
    },
    "8a55f48ee05f4dc584a6202d9c22e9f0": {
     "views": []
    },
    "8af1e628ab694fe1983ae68c93efe357": {
     "views": []
    },
    "8badbc8f90a243b59f18ef8650c0189a": {
     "views": []
    },
    "8d9795f304634afa9356056c951756f6": {
     "views": []
    },
    "8e92129cc2064528803217454d29573a": {
     "views": []
    },
    "9124f494428e42d68b2a0252757e1b7d": {
     "views": []
    },
    "927f3afd84d34b4f9a8ad8c3e540f625": {
     "views": []
    },
    "94449723df364b08857078e3bbd69df8": {
     "views": []
    },
    "959260c522a249c5acccfc6be7006035": {
     "views": []
    },
    "961572c7bf95482287c806f21a959632": {
     "views": []
    },
    "97a64356c504488f835546e302c3d369": {
     "views": []
    },
    "99445a3f3c354f11b0e0d0f36753e06d": {
     "views": []
    },
    "9c2cf749b64c41cdb6064276d499a2ad": {
     "views": []
    },
    "9c700f93cfae4061b66d15d666f1aa84": {
     "views": []
    },
    "9d265d6be8d443c2bab87e4c2a35a021": {
     "views": []
    },
    "a0f772ec6160458ba346b585c6be7e78": {
     "views": []
    },
    "a178d686599c4f109899e5292a5986d9": {
     "views": []
    },
    "a222ab5c69a14e2fa1de976fa92b36d2": {
     "views": []
    },
    "a2e9fbe9951b451d9feceb7dd36e0e89": {
     "views": []
    },
    "a436d3f6c68c4fd498a6375692ff4ed4": {
     "views": []
    },
    "a43f0a89330c481ea2c2ee7743ed96d2": {
     "views": []
    },
    "a56c6f5cd5414cb387f0e4c4a2eff6c7": {
     "views": []
    },
    "a7de92d9ce8c4c79952f035583d56d7a": {
     "views": []
    },
    "a90bae01d7f544ff9ddccd566ccf263c": {
     "views": []
    },
    "aa3770d56d4545d998af36c38404fb74": {
     "views": []
    },
    "ace434671689418593be3badb0bf5259": {
     "views": []
    },
    "b2e8cfff014e41e698712142af90b8b0": {
     "views": []
    },
    "b6310036bfbe420e8709ac1613f26a02": {
     "views": []
    },
    "b6521d05bd674cb1aa2fe2e3b2eb144f": {
     "views": []
    },
    "b66ae22caf46451a882d9a8451eb84ad": {
     "views": []
    },
    "b7abaedde60849f5820586872e840c93": {
     "views": []
    },
    "b8d7db5948664bc29fcc17f28388d477": {
     "views": []
    },
    "b9693845f5aa4250ba73ffb36bc95f45": {
     "views": []
    },
    "baf111d1f7bf43ef830b1c51f9471293": {
     "views": []
    },
    "bddb6b9f2224478ca14ce41d286b2cc8": {
     "views": []
    },
    "be6fa94ef6dc4459abf89c01db705770": {
     "views": []
    },
    "bf5ea90897a04c7e844db79288a41416": {
     "views": []
    },
    "c33616cb41d2415bb79ae557fada4b10": {
     "views": []
    },
    "c3836b814cb4456bb880629fa1f70884": {
     "views": []
    },
    "c396c43cc6a840e3be68e52ae42cedfb": {
     "views": []
    },
    "c3ebf886a2e94aa9a9ccdb6feea33779": {
     "views": []
    },
    "c4dda25456304faa83530d6d4e5aac2c": {
     "views": []
    },
    "c58862e526cf4621b1bb1ba1b25419f3": {
     "views": []
    },
    "c7019ad11918413da4ce1c3375d43ac8": {
     "views": []
    },
    "c73a5734c1bf4fb9bbea1173c8bf17b4": {
     "views": []
    },
    "c87ecc40601d4bd8927fd096020169d6": {
     "views": []
    },
    "c90418c85c7342b1857947aad763708d": {
     "views": []
    },
    "c94342a783bd401e8863a372a0b342ec": {
     "views": []
    },
    "c9f958b2d253499c9cbf14124c15f3ab": {
     "views": []
    },
    "cadb3bdfd9b440cebbeca96461896e2f": {
     "views": []
    },
    "cb6389ab412a488c89b8dbe9176693c4": {
     "views": []
    },
    "cbf363a2ea15440fb9c358e9d6e42904": {
     "views": []
    },
    "cd5da9e0cea04b9ca38cbc5cce116654": {
     "views": []
    },
    "cd93fb54aece4d93ac430f3a47f7e630": {
     "views": []
    },
    "d179e8535ff841f882cd7472af777116": {
     "views": []
    },
    "d307c894fd9046dd9ca6ad5922df61d5": {
     "views": []
    },
    "d3510b38c84c4b50b7179e0279663b13": {
     "views": []
    },
    "d3843a9e739c4fe790536fbba9bd7be5": {
     "views": []
    },
    "d40a8dbc306d4a61abe308a1884f7d89": {
     "views": []
    },
    "d55d585efc424480941a3df37b6a5e2f": {
     "views": []
    },
    "d6b91facb1e14e338d821a7079eab502": {
     "views": []
    },
    "d82e3c48fd394f55a85a8d041e1e6e80": {
     "views": []
    },
    "d892f213b5b2401db0e35a2d6e7fabe7": {
     "views": []
    },
    "d8cbc13711d5424bb8a341cd6bdfda57": {
     "views": []
    },
    "da2f4f140dfb44f3954dfc179beb8ec3": {
     "views": []
    },
    "e042db2ef0bd4100ba41dc53874aac30": {
     "views": []
    },
    "e0b733f388354f239ceda225a129cc4e": {
     "views": []
    },
    "e23b6c58659f4689afed896307903b26": {
     "views": []
    },
    "e25a4829963c463a98dcaf8ace298f4f": {
     "views": []
    },
    "e28de9d53c8f493a97c6d876c2b4e1e2": {
     "views": []
    },
    "e2bf9d2332a342e795b1c4b5ea356764": {
     "views": []
    },
    "e2de1c5aaa4c4e21827f8a51baafc013": {
     "views": []
    },
    "e5982005b2c24fde9b4f70bee69ead83": {
     "views": []
    },
    "e7846ca9efe044bfa655b42c3cd30802": {
     "views": []
    },
    "e98dc812d3954cfca7078bfb85c48023": {
     "views": []
    },
    "eb56fb7fd7794883b49a4ef37d1dc32c": {
     "views": []
    },
    "ec77b57907e14dcb869b21d1f3bb97e1": {
     "views": []
    },
    "ec89a2db3d3c4bfeaddace5a7d07a1f3": {
     "views": []
    },
    "ec955cf262ea4b0ca7ef55675f1eadd2": {
     "views": []
    },
    "ee529ba15ee34bf69e5a78c5ea7faa6f": {
     "views": []
    },
    "eeaac2a1078846a5bea39fd09704c12f": {
     "views": []
    },
    "ef2ec603d6f74b3a83db090cc794774d": {
     "views": []
    },
    "ef58f4633cce4cc2af688aaee7b07885": {
     "views": []
    },
    "efd9984637c14c4980a8a9a6c1625db2": {
     "views": []
    },
    "f25400c2975e4811b5a503a8f86a29fb": {
     "views": []
    },
    "f3724139cc4b43af849b13448db9b533": {
     "views": []
    },
    "f3f04b5e44ac4ba6b5245a4237cbac20": {
     "views": []
    },
    "f4216501408c461a810253dcc5d2bfa3": {
     "views": []
    },
    "f4930178a1f949d49fefe3a61a3ae101": {
     "views": []
    },
    "f5d2c34cb36844d3b94ff4ac5a1536af": {
     "views": []
    },
    "f639bac2ba424daf97e0f43ebcfd1a7d": {
     "views": []
    },
    "f7d8050025634a5884f415efa235a594": {
     "views": []
    },
    "f9664e86b07e47c395b0c32655320597": {
     "views": []
    },
    "faa73d2a2d0749178283ce75f86f18b4": {
     "views": []
    },
    "faf5d0c2416c4c30ac8d5923e1ff31ff": {
     "views": []
    },
    "fb2ffd451f2e4f9aa4e4b23a58872835": {
     "views": []
    },
    "fbf8df6109c8488289f87163fc68f0b4": {
     "views": []
    },
    "fe7fe6fb332a4e45a9ff91a42f82c42e": {
     "views": []
    },
    "fffaa1624a604de283fb5e9aef3a0a16": {
     "views": []
    }
   },
   "version": "1.1.2"
  }
 },
 "nbformat": 4,
 "nbformat_minor": 2
}
