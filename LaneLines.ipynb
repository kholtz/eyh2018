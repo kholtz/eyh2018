{
 "cells": [
  {
   "cell_type": "code",
   "execution_count": null,
   "metadata": {
    "collapsed": false,
    "deletable": true,
    "editable": true,
    "scrolled": true
   },
   "outputs": [],
   "source": [
    "from secret_sauce import *\n",
    "from ipywidgets import interact\n",
    "%matplotlib inline\n",
    "\n",
    "w = interact(apply_color_thresholds, red=red_widget, blue=blue_widget, green=green_widget)"
   ]
  },
  {
   "cell_type": "code",
   "execution_count": null,
   "metadata": {
    "collapsed": false,
    "deletable": true,
    "editable": true,
    "scrolled": true
   },
   "outputs": [],
   "source": [
    "w = interact(apply_edges, low_threshold=low_widget, high_threshold=high_widget)"
   ]
  }
 ],
 "metadata": {
  "kernelspec": {
   "display_name": "Python 3",
   "language": "python",
   "name": "python3"
  },
  "language_info": {
   "codemirror_mode": {
    "name": "ipython",
    "version": 3
   },
   "file_extension": ".py",
   "mimetype": "text/x-python",
   "name": "python",
   "nbconvert_exporter": "python",
   "pygments_lexer": "ipython3",
   "version": "3.5.2"
  },
  "widgets": {
   "state": {
    "045fbff46b8948e1b67db77730780db2": {
     "views": []
    },
    "06faab9b202844b7b05d6efc7b3e5d1e": {
     "views": []
    },
    "075d6b33b7c24c24a9c52d45d8244982": {
     "views": []
    },
    "08e0e6f7402040e5a1219380642725e9": {
     "views": []
    },
    "091e19e754624dd8b679e727b21efa31": {
     "views": []
    },
    "098fb942912c4c0289fdace65bf5ca52": {
     "views": []
    },
    "0ad7eaecee754f26a0e45a09c745745d": {
     "views": []
    },
    "0c5cac4c1a6d4b60b71e26ba4510c938": {
     "views": []
    },
    "0d98ccb38e1f487eba24065128522196": {
     "views": []
    },
    "0e33d7412c7b45a8b92300add614d01b": {
     "views": []
    },
    "0e9e260eefa445f2be0d4c7ad02c87f5": {
     "views": []
    },
    "0f0fbed44c2a4527921c1286c963e2eb": {
     "views": []
    },
    "101dc672fe3a42f29a5f3af2b13fee41": {
     "views": []
    },
    "11df92e40b7a4027b13ba7a388094f29": {
     "views": []
    },
    "12621d05495b4602b8d16fbd149fa216": {
     "views": []
    },
    "1272a7d43f3546248a98ca5761a7f090": {
     "views": []
    },
    "1290686873364c2e8be5372f8977d8c4": {
     "views": []
    },
    "133ef7608420461da208effda86b17b2": {
     "views": []
    },
    "13fa2043c4e34a6d9bf3a6d551378552": {
     "views": []
    },
    "16856c0054214cda85a5104098930021": {
     "views": []
    },
    "173dbd2612304cc899dae62f4b3bba12": {
     "views": []
    },
    "184beebcf0844018ab39a308637c65d0": {
     "views": []
    },
    "196c05e2fe5d4660a33706e781b89b59": {
     "views": []
    },
    "19f6d7cc70bc4f3f8f579755d195b603": {
     "views": []
    },
    "1d21073d139b49279cb3e218c1304835": {
     "views": []
    },
    "1d869f1e9c5a4c2c8e75b92efdef7c63": {
     "views": []
    },
    "211e93230dbd43348c7758a6d0520882": {
     "views": []
    },
    "2189252c37fb4312b2207340a9492a64": {
     "views": []
    },
    "23bc74fb926d481ca490664ad9433d42": {
     "views": []
    },
    "242b28c3f19d4d5aa5bea56a2e376c7c": {
     "views": []
    },
    "24cc700d960f4ed383285ab38bd75656": {
     "views": []
    },
    "24eff5d39ca6401f83f630129b5a6953": {
     "views": []
    },
    "263a0d20a15945f68831173df2770aaa": {
     "views": []
    },
    "274585d614784f09b7e6f578f057463d": {
     "views": []
    },
    "2afeccc062b84b1f916b50829aa2b153": {
     "views": []
    },
    "2ba0c463163749189832b55f75689515": {
     "views": []
    },
    "2be01b47df5e48049a9f26078290dad7": {
     "views": []
    },
    "2c1f09eca6434fffb9faeeb6cbe75d28": {
     "views": []
    },
    "30ab61f41fdb4ee48eafd625a8841c5e": {
     "views": []
    },
    "3286a975b84e459db4536bb9d106653e": {
     "views": []
    },
    "343dccacfe024f9dacd5fd9747d63b7b": {
     "views": []
    },
    "35246d706f6548dc90ee32a152169a76": {
     "views": []
    },
    "3596cb2914954db6a086046c1ba8952b": {
     "views": []
    },
    "367e68b2216c452881bca18024218063": {
     "views": []
    },
    "36a5d81067154b0c88748cc24b219940": {
     "views": []
    },
    "3c1712718dd84e8fb7e87432bd096af2": {
     "views": []
    },
    "3cc852aa07ec47638def8105850ba55b": {
     "views": []
    },
    "3dfd45f8c7434cce82df341788a1dd8b": {
     "views": []
    },
    "41396ef1933b4ae4bb009d4f6af18224": {
     "views": []
    },
    "451076013c6d466f9df41ccacf41595e": {
     "views": []
    },
    "4bfa6014707345d7bd958d0e3ea6ac07": {
     "views": []
    },
    "4c384f471de74c099c086f424645ab50": {
     "views": []
    },
    "4ce1da85ab46488caaa02a461b5baaf0": {
     "views": []
    },
    "5008a1c77664437b88a26c517940c358": {
     "views": []
    },
    "5062c38fce5747c89ec98b33911942c6": {
     "views": []
    },
    "5084889a98444d44861bfab51cd2e352": {
     "views": []
    },
    "51ead3733c0f410ba41041d35a19b1ea": {
     "views": []
    },
    "528896c044f64005990e9fa955f25033": {
     "views": []
    },
    "547af554394148fa9fda47ab32ac91fb": {
     "views": []
    },
    "5551f8fcba1242e6b84b7f7a9eb62ace": {
     "views": []
    },
    "5657fa8ba06148328d0a47b2e45a8173": {
     "views": []
    },
    "576abc97ab2742b1baeef4875356286b": {
     "views": []
    },
    "5acc53d6aa0d4426880a30181917211c": {
     "views": []
    },
    "5b7ed26d47d0467d933ad1553fd9f838": {
     "views": []
    },
    "5bbbc82ddfea4aaba5d1a77bd39fdec1": {
     "views": []
    },
    "5c832339aa5346cd9c6f5d782efed516": {
     "views": []
    },
    "5ccbe836ceaf40b6959bbc6d94c2873a": {
     "views": []
    },
    "5d99e0e5faf14169bd9bcc0497cac699": {
     "views": []
    },
    "5dadfd0e49334cc1bf0d3310ce35812e": {
     "views": []
    },
    "5ec58144590d4fb783696f53579ebb29": {
     "views": []
    },
    "6186107491714edeac89b7ad4d6b60fe": {
     "views": []
    },
    "624d5a16f67149d089530be551123acf": {
     "views": []
    },
    "629079d399c34dc59875bbbc21c59ee8": {
     "views": []
    },
    "6344808f51fa4828b4bb1a5191b90243": {
     "views": []
    },
    "634661d31ddf4d38a5970c63e7282fcd": {
     "views": []
    },
    "64b46948840742edb9a6ab8b354f48cb": {
     "views": []
    },
    "64f11e532f764452a7425aecc153b0b0": {
     "views": []
    },
    "653b6d64e62b4fd2927069a257688789": {
     "views": []
    },
    "654d88df9b884c949f90e2a273cf6539": {
     "views": []
    },
    "6591e28908e7447ebcf614cf0ca2ec28": {
     "views": []
    },
    "65dbea1ad1984a41b6cc0bc7fca25f43": {
     "views": []
    },
    "65e3c3aeab194756a433320b5b8caa86": {
     "views": []
    },
    "689f34e7f47442f8b7eb97ac483f0f72": {
     "views": []
    },
    "6ea1f89609444acdbbd40aa99a13a674": {
     "views": []
    },
    "6ecfb757d1c947f591ef0944b0763344": {
     "views": []
    },
    "6ed7ab61ad5746ed9c90569744e919bb": {
     "views": []
    },
    "6f75d758f5444097bbab1c0de5fe52ce": {
     "views": []
    },
    "6fd00d82da89464d8b766a34ceabb67b": {
     "views": []
    },
    "7052435f623a45d1a41f0bb9f44fde88": {
     "views": []
    },
    "707a121974b3466a934a794808d4dd91": {
     "views": []
    },
    "7082b41ad9694b85b8c48e337505487b": {
     "views": []
    },
    "71577a0492ea4b0ebbf6bcdebf227755": {
     "views": []
    },
    "7651309463014edda64da0a7587bcc96": {
     "views": []
    },
    "7722319f68db4a5d919e125e9191d48b": {
     "views": []
    },
    "79a718b6f2174814a4b667582288d4c4": {
     "views": []
    },
    "79bda633f48f465285891ffeca3c13d2": {
     "views": []
    },
    "7a335dc4b6f1427380635f45d6a67b98": {
     "views": []
    },
    "7a5ca5e2f1a54c88ac31844ab8dd7c74": {
     "views": []
    },
    "7abb0f1031e341d090fa22f67210623b": {
     "views": []
    },
    "7b7a332d6a4c44ea8d160372858086a2": {
     "views": []
    },
    "7ce625d8cd284f4ca296c78417ecb0f7": {
     "views": []
    },
    "7d38be406a454610923bd5aa0ed16531": {
     "views": []
    },
    "7e7b289e80274397b3cc97bb9cd95243": {
     "views": []
    },
    "7e94aaa53b05477dae2149da7f25c19e": {
     "views": []
    },
    "814c7236c1fb45c88ad9be42dbcca1a0": {
     "views": []
    },
    "81974971ec624a2fabb90d9035e133b1": {
     "views": []
    },
    "83595856a2d041f182232ebb752ddcb5": {
     "views": []
    },
    "84422229d78a4fe98e39d30727e650fb": {
     "views": []
    },
    "860f5bfb96db4d0f84c8ab447715bc96": {
     "views": []
    },
    "877b5f078cf248159a9fbc093d1a8f7c": {
     "views": []
    },
    "88796450c3d84f569c288e9199c5053e": {
     "views": []
    },
    "88ad1980aa6f4a829d0125ef938b81dd": {
     "views": []
    },
    "89e75f89d6c94c328a8174bcc920b612": {
     "views": []
    },
    "8a0030cd4044429a814559f14d181823": {
     "views": []
    },
    "8b2a2b5937e04b85b563aa3875965151": {
     "views": []
    },
    "8baa23f4a8044bd58497c6b7c50260d2": {
     "views": []
    },
    "8dc757fc1cef4a4fb324ca76b9eae2e0": {
     "views": []
    },
    "9121d781665d4f58898bcb12334b1517": {
     "views": []
    },
    "92bc5e3647b9436ca3185a8550cc7be2": {
     "views": []
    },
    "938bba92c3bc4dda8b6a9e52818b3f95": {
     "views": []
    },
    "950b3bc51f95410188e796ba30b17b60": {
     "views": []
    },
    "9761f59d3ef8483388f63db981da1364": {
     "views": []
    },
    "97912646756e4678912b736e5e3222bd": {
     "views": []
    },
    "9923b064dd374b5492fb13feaa896426": {
     "views": []
    },
    "99f042acd4cd4266bee300423692e3fd": {
     "views": []
    },
    "9b466be7704341438d3efb067c3de384": {
     "views": []
    },
    "9c61039903a04e8592f72aefbd6bedee": {
     "views": []
    },
    "9cd169abe76745f894572c83a0a5dcab": {
     "views": []
    },
    "9d31f5e9b58b43ca90b0cae447100675": {
     "views": []
    },
    "a1b57969c3c0487caef95e872926626d": {
     "views": []
    },
    "a36ed232d51e48c7bfe701b5aa5775bc": {
     "views": []
    },
    "a47ecbbaa5be49049d8ac5212973cc88": {
     "views": []
    },
    "ad8995ea94c1407288551adf1139c8a1": {
     "views": []
    },
    "aeaab8b15fdf4c31b3e94a9cf63a2f18": {
     "views": []
    },
    "af2c7a0ad1054b79ba8ffd10eafd0d4b": {
     "views": []
    },
    "b1daf3b599304a4590e4dfb3b4459398": {
     "views": []
    },
    "b2a5e4b17b7642a4a44871b3e2548925": {
     "views": []
    },
    "b3f96a3257364c3c9977e328120e8f5b": {
     "views": []
    },
    "b423a4cca6b3406680fd3132a0ac3028": {
     "views": []
    },
    "b51cf6271fe74c3faed2338bd0b54c19": {
     "views": []
    },
    "b55b1800d64149f9b2328ca774868252": {
     "views": []
    },
    "b56926a47f7141af944b6ee12c0f7805": {
     "views": []
    },
    "b5824d5ba76946a2bf961484b5841984": {
     "views": []
    },
    "b6ef38344ba6415085101825ac51d921": {
     "views": []
    },
    "b9d7c75b4ec9492393e60947840f333f": {
     "views": []
    },
    "ba482bd389a64c09adbb61061214df6f": {
     "views": []
    },
    "bb75719d3ac04e679ba2486cbc93ca57": {
     "views": []
    },
    "bc5f90d223164b56a08d74b6a27f3b6b": {
     "views": []
    },
    "bda7f421d300424294cd8d6c0112c9de": {
     "views": []
    },
    "bf5f4bdc6f2147eeb5f5ca04c8486121": {
     "views": []
    },
    "c25c49d2d5a2410b8f73a2be08092a57": {
     "views": []
    },
    "c404f49d66b749eb82b6a7122d5333b3": {
     "views": []
    },
    "c45a583081af43a797f81fceb112c362": {
     "views": []
    },
    "c5c53e38397c4dd4a7fa0b7cf01d1314": {
     "views": []
    },
    "c70fd9b83fac46d3b69aebee2c7f94e5": {
     "views": []
    },
    "c71a67fba0584346b0f1c535f9b8b71b": {
     "views": []
    },
    "c758fd6967ea4840a51b7d4f7e95736e": {
     "views": []
    },
    "c84a6a7bb76d4bddbdf039b744f03340": {
     "views": []
    },
    "c86dcda8285f43f68d0736d48ed1810d": {
     "views": []
    },
    "cbb83f6e76074360b0b6cd2b9d024087": {
     "views": []
    },
    "cd515ece0dd6466692e6a6c27f4816c8": {
     "views": []
    },
    "ce8db1fba06d4eb9ba1add7dc58d5aa6": {
     "views": []
    },
    "cf406840ee074546ae696cad2a07923f": {
     "views": []
    },
    "d9187bb649484de0bb5a0a22b054a7ff": {
     "views": []
    },
    "d9883e4efee84301bcc4ebf845928c0e": {
     "views": []
    },
    "d9b463eb468c4e448c43bc24c0ce1f8a": {
     "views": []
    },
    "d9e6f9e460574d32b96b9bbd0c2caa1b": {
     "views": []
    },
    "da527deef187496ba078e66ec601033e": {
     "views": []
    },
    "daa103c9b2b1440eb76195097ffce5e7": {
     "views": []
    },
    "db3a8cc011ef478db4821ba9ca359369": {
     "views": []
    },
    "e0413cda813d4c7997f1f0ca72e93476": {
     "views": []
    },
    "e17564b37f8645acb14bcac2dcbc0da1": {
     "views": []
    },
    "e189037268214aacaf8f98e534692743": {
     "views": []
    },
    "e1eeeb3a8c774656884ba13e57998d4d": {
     "views": []
    },
    "e22b7ab4d21448589bca2bf18fa04d6f": {
     "views": []
    },
    "e2c00943977d4d5db7e441314ee996a4": {
     "views": []
    },
    "e415934fdc3b4b27aa03f8353ce5e53c": {
     "views": []
    },
    "e50cfc6ac37c40528fd4173421b51c71": {
     "views": []
    },
    "e6290563592a4c65a9e0a6afb5b0f1aa": {
     "views": []
    },
    "e70f9729990c4ec1a0c5c35b97055122": {
     "views": []
    },
    "ea2582a0be554b45ab8311205ead06c0": {
     "views": []
    },
    "ecb340d780b14a968a6461167da9f7d9": {
     "views": []
    },
    "ed93bd46dd31446db09e084938e2c7df": {
     "views": []
    },
    "ef2b3f35266b4e08be74a8fec9f6e6f6": {
     "views": []
    },
    "f0077318d002422b9410877c5fc08428": {
     "views": []
    },
    "f0623deb1aaa4b54b85f9ec3f3a32255": {
     "views": []
    },
    "f35759ee63bd48a49b2d8c5f80156103": {
     "views": []
    },
    "f3cdde4ef19041c880aad874526c7edb": {
     "views": []
    },
    "f71ae52633144dad8f330c86ff36bd55": {
     "views": []
    },
    "f75d80da54004c2a87f74b9e8e8f7295": {
     "views": []
    },
    "f77ee594732541c7b5ff36ca9bcfd564": {
     "views": []
    },
    "f94d1cd8cff648988fc69d0c0ec41a21": {
     "views": []
    },
    "fbf73de5166b4604bcc9847d31b5adbe": {
     "views": []
    },
    "fd1043d6889e490a8780558307644b55": {
     "views": []
    },
    "fd21e57d0a91494f89c2051be6f88875": {
     "views": []
    },
    "fdc02d18971b4fd3947a6b6f14e8d173": {
     "views": []
    },
    "fe1bd08a40e042c3b92430da88a4cde3": {
     "views": []
    },
    "ff66df071b0d4b6b9741aadb41921b55": {
     "views": []
    }
   },
   "version": "1.1.2"
  }
 },
 "nbformat": 4,
 "nbformat_minor": 2
}
