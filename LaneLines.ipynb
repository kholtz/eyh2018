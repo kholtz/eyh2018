{
 "cells": [
  {
   "cell_type": "code",
   "execution_count": null,
   "metadata": {
    "collapsed": false,
    "deletable": true,
    "editable": true,
    "scrolled": false
   },
   "outputs": [],
   "source": [
    "from secret_sauce import *\n",
    "from ipywidgets import interact\n",
    "%matplotlib inline\n",
    "\n",
    "w = interact(show_color_threshold_results, red=red_widget, blue=blue_widget, green=green_widget)"
   ]
  },
  {
   "cell_type": "code",
   "execution_count": null,
   "metadata": {
    "collapsed": false,
    "deletable": true,
    "editable": true,
    "scrolled": false
   },
   "outputs": [],
   "source": [
    "w = interact(show_edge_detection_results, low_threshold=low_widget, high_threshold=high_widget)"
   ]
  },
  {
   "cell_type": "code",
   "execution_count": null,
   "metadata": {
    "collapsed": false,
    "deletable": true,
    "editable": true
   },
   "outputs": [],
   "source": [
    "# TODO(kristen): Add button to \"rerun\"\n",
    "apply_masks()"
   ]
  },
  {
   "cell_type": "code",
   "execution_count": null,
   "metadata": {
    "collapsed": false
   },
   "outputs": [],
   "source": [
    "show_regions_of_interest()"
   ]
  },
  {
   "cell_type": "code",
   "execution_count": null,
   "metadata": {
    "collapsed": true
   },
   "outputs": [],
   "source": []
  }
 ],
 "metadata": {
  "kernelspec": {
   "display_name": "Python 3",
   "language": "python",
   "name": "python3"
  },
  "language_info": {
   "codemirror_mode": {
    "name": "ipython",
    "version": 3
   },
   "file_extension": ".py",
   "mimetype": "text/x-python",
   "name": "python",
   "nbconvert_exporter": "python",
   "pygments_lexer": "ipython3",
   "version": "3.5.2"
  },
  "widgets": {
   "state": {
    "00627012ea3c4745a98e01e46f09af41": {
     "views": []
    },
    "0477374bc65946bb87f20e984c278876": {
     "views": []
    },
    "06920f6ca4244f428c1c8d7b791e0b38": {
     "views": []
    },
    "070125da77134e74a3025d5ccd3bf2c9": {
     "views": []
    },
    "08fe880e0153440caf4d2caa59cfa40e": {
     "views": []
    },
    "097edd360c6142f395b60b5932dd8693": {
     "views": []
    },
    "10531caaba9541b394ebf7eaf4ee7357": {
     "views": []
    },
    "14edbe50fd08430bbf2ef6e6ff05b2e4": {
     "views": []
    },
    "16d6d049048d4ed189271e1f5b33eade": {
     "views": []
    },
    "1d4a38e78dd14e2685095928e80596b0": {
     "views": []
    },
    "1e0d0685287e4326bd39b2a4c6ab8af8": {
     "views": []
    },
    "1f47d47869d54df9b836b778adbe50ad": {
     "views": []
    },
    "2a0de92825f94c3a985d7baf7e578759": {
     "views": []
    },
    "2ac1b5454e38427e9dd5e0e6960d6d22": {
     "views": []
    },
    "2cbf5b25034d483da1326c200878cc78": {
     "views": []
    },
    "2d31da207ac94a72ba4abfad1d3916ff": {
     "views": []
    },
    "30b329fa9a0f4a3d84b80f6bcc69964d": {
     "views": []
    },
    "35247f32766e4e3a9de0acd26dd9283a": {
     "views": []
    },
    "3895715c2a564e26a91800ecb22cf52f": {
     "views": []
    },
    "39a6965e6781464ab9db1b72920943f4": {
     "views": []
    },
    "39ace5040e0a4c3197bd04b26889a239": {
     "views": []
    },
    "41bb2b98955e4578bcce1a812aa45172": {
     "views": []
    },
    "461789f0bb08452daaf31a4b69b47b45": {
     "views": []
    },
    "4a001b183bde472f97f86fbfdce68c66": {
     "views": []
    },
    "50e88f3b33a443c996fdfbbfdfa8242f": {
     "views": []
    },
    "55925b6fe49547a2b146eb6ef8d56318": {
     "views": []
    },
    "5cb630f1ebbb4dac918a4f0c4f6e5778": {
     "views": []
    },
    "5cef1f47bd8e41628fcc926ef9d23287": {
     "views": []
    },
    "62e6fb5c14e44e3491bd3bd844599218": {
     "views": []
    },
    "6a5896eab5f74474ad1e9a752203b7d3": {
     "views": []
    },
    "6aacc2fb67714caeac5a361cf8028036": {
     "views": []
    },
    "6aece78971ae496ba339267edec1a6c3": {
     "views": []
    },
    "6c932baa5e334d9ab6e2d495d4fcbebf": {
     "views": []
    },
    "6cd6b5530b5f4547b645d72f5ff96a6e": {
     "views": []
    },
    "6f43bb492c2d40f5bb17522bf641c7f6": {
     "views": []
    },
    "723effff61f74f0fb4f089ecfeb7b6b6": {
     "views": []
    },
    "72de1d3da388475b92509de02060eb01": {
     "views": []
    },
    "73d414f4011043a9bc2692f3cafb08fc": {
     "views": []
    },
    "7e4a8338fa4d4d189b33ed15d6412464": {
     "views": []
    },
    "812033d4d8a74bdd929481f3a8a38269": {
     "views": []
    },
    "826e7ad618354d098e014edd49400505": {
     "views": []
    },
    "83c1c188516140589f0fc441b694c0e0": {
     "views": []
    },
    "844254bbbd6647459ce4166e0d6faecc": {
     "views": []
    },
    "8594f80fcbb7442ca02bc53d4c29a216": {
     "views": []
    },
    "8644673b92784aa99c44466000001269": {
     "views": []
    },
    "8a03fa6f510b40408ee0ea05deba92a3": {
     "views": []
    },
    "92dab16ea985489a88f20dc5a88d71ce": {
     "views": []
    },
    "953bc9fb696049159a7ee20e888baf88": {
     "views": []
    },
    "968f88e932944d6c99231ef790a631f8": {
     "views": []
    },
    "98b88ee0b50140279251b79b3d966eb8": {
     "views": []
    },
    "99118ca148264b77a16ea08c672535f0": {
     "views": []
    },
    "9aaa41a9a5ac4ca0a53a60c12983462f": {
     "views": []
    },
    "9b88796c0ec8418ba22c0fc453624e90": {
     "views": []
    },
    "9c9943ea9010453a9ad3849f3be8372c": {
     "views": []
    },
    "9d351d8da5634365a5dfad4e9d4611eb": {
     "views": []
    },
    "9d4d49f356df4dcbb773ff8fd1cb6e43": {
     "views": []
    },
    "9dc900a4326b453d893a5c3bce664bd1": {
     "views": []
    },
    "a0f92dd832764ba486bd55b96fa9ed6e": {
     "views": []
    },
    "a1b2d839d2774e7684a30119a97b949c": {
     "views": []
    },
    "a5bd44d7758649fc951ce9fa86deb4ca": {
     "views": []
    },
    "a70dd4b00d67476cb822e7715649870e": {
     "views": []
    },
    "ac898aa9ed2b483d8ab170873b8f7521": {
     "views": []
    },
    "ad27a68d4b29402f8026f0812710708a": {
     "views": []
    },
    "ad3c4ddd4918463b9ce86227bf051fad": {
     "views": []
    },
    "b1c7c439cd6f4702b97ba929350c2e17": {
     "views": []
    },
    "b217f6a73c734b6982bb33ec7b34df2b": {
     "views": []
    },
    "b50a90190e124c0d934ba5573998df70": {
     "views": []
    },
    "b5e6caf5b166465790124f3a66ecbfbf": {
     "views": []
    },
    "b5fbfe3bb95e48609dcf5744508e4dce": {
     "views": []
    },
    "bb94e2ef5395433c8067f7265adc2007": {
     "views": []
    },
    "bcf08a0fafd44563b78be051ebe2bf3d": {
     "views": []
    },
    "bfd279d5092540169de0303231b81b62": {
     "views": []
    },
    "bfe684eed51543a3b726708e006ecf1f": {
     "views": []
    },
    "c1e75550cea54341970e0a7a4ee78ec6": {
     "views": []
    },
    "c339a9f8f5d946deb02db678c3ed5a48": {
     "views": []
    },
    "c3902f2e73484b81ab135aa67245d7ef": {
     "views": []
    },
    "d4123cfb312740b49afc1ea7d40859fd": {
     "views": []
    },
    "d78e0a11bc1641d3b975cd79bb29f6dc": {
     "views": []
    },
    "d85ded13e25c4303ad6acd3d0015d390": {
     "views": []
    },
    "d8f50fc812ee46c0ad3f39fe13bff2c6": {
     "views": []
    },
    "dbf7c724979a4504ba20fe48c1528b16": {
     "views": []
    },
    "e026fcb66d7c4140982fc291722c5c0b": {
     "views": []
    },
    "e069abd2d90942fb854b10ff84e778e8": {
     "views": []
    },
    "e1f92179bb2e4961bf3ebbf9ceee21be": {
     "views": []
    },
    "e4b7530fd952427b8397c05fb863bfb0": {
     "views": []
    },
    "e6dc511ff11e4481b2510eb19d10b134": {
     "views": []
    },
    "e8a10762a1d74628b1c3fe665df39ca5": {
     "views": []
    },
    "ed65228adbd446b1846fb45f18e848b1": {
     "views": []
    },
    "ee0750bdae684939a977213202d8cb11": {
     "views": []
    },
    "f06b7ce271cd4e9abd3562df79f8bc7e": {
     "views": []
    },
    "f23ef1472e694cbf95307d78c41a0bb0": {
     "views": []
    },
    "f5e029b227124ae5949e563b5000b759": {
     "views": []
    },
    "f9789d50178243dbb4ddc33c030707d8": {
     "views": []
    },
    "fe7024e4468e4bd784cacca10aa0e0df": {
     "views": []
    }
   },
   "version": "1.1.2"
  }
 },
 "nbformat": 4,
 "nbformat_minor": 2
}
