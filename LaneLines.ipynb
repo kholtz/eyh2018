{
 "cells": [
  {
   "cell_type": "code",
   "execution_count": null,
   "metadata": {
    "collapsed": false,
    "deletable": true,
    "editable": true,
    "scrolled": false
   },
   "outputs": [],
   "source": [
    "from secret_sauce import *\n",
    "from my_widgets import *\n",
    "from ipywidgets import fixed, interact\n",
    "%matplotlib inline\n",
    "\n",
    "# We are going to use two example images to test our code on! \n",
    "# Hold down the 'SHIFT' key and press 'ENTER' to see the images\n",
    "\n",
    "show_images(white_lines, yellow_lines)"
   ]
  },
  {
   "cell_type": "code",
   "execution_count": null,
   "metadata": {
    "collapsed": false
   },
   "outputs": [],
   "source": [
    "# Let's find color thresholds! Hold down 'SHIFT' and press 'ENTER' again.\n",
    "w = interact(show_color_threshold_results, red=red_widget, blue=blue_widget, green=green_widget)"
   ]
  },
  {
   "cell_type": "code",
   "execution_count": null,
   "metadata": {
    "collapsed": false,
    "deletable": true,
    "editable": true,
    "scrolled": false
   },
   "outputs": [],
   "source": [
    "# Let's find edge thresholds! Hold down 'SHIFT' and press 'ENTER' again.\n",
    "w = interact(show_edge_detection_results, low_threshold=low_widget, high_threshold=high_widget)"
   ]
  },
  {
   "cell_type": "code",
   "execution_count": null,
   "metadata": {
    "collapsed": false,
    "deletable": true,
    "editable": true
   },
   "outputs": [],
   "source": [
    "#### Now we are going to put these thresholds together! \n",
    "#### Enter the numbers you got in the first two sections in the python code below\n",
    "\n",
    "low_red_threshold = 0\n",
    "high_red_threshold = 255\n",
    "\n",
    "low_blue_threshold = 0\n",
    "high_blue_threshold = 255\n",
    "\n",
    "low_green_threshold = 0\n",
    "high_green_threshold = 255\n",
    "\n",
    "low_edge_threshold = 0\n",
    "high_edge_threshold = 0\n",
    "\n",
    "#### You don't need to touch the rest of the code in this section, just fill in your numbers above!\n",
    "\n",
    "# The 'apply_masks' function will take in an image (for example, 'white_lines'), and output the\n",
    "# result of apply the color and edge masks!\n",
    "white_lines_result = apply_masks(white_lines, \n",
    "                                 low_red_threshold, high_red_threshold, \n",
    "                                 low_blue_threshold, high_blue_threshold,\n",
    "                                 low_green_threshold, high_green_threshold, \n",
    "                                 low_edge_threshold, high_edge_threshold)\n",
    "\n",
    "yellow_lines_result = apply_masks(yellow_lines, \n",
    "                                  low_red_threshold, high_red_threshold, \n",
    "                                  low_blue_threshold, high_blue_threshold,\n",
    "                                  low_green_threshold, high_green_threshold, \n",
    "                                  low_edge_threshold, high_edge_threshold)\n",
    "\n",
    "# Now we display the results!\n",
    "show_images(white_lines, white_lines_result, yellow_lines, yellow_lines_result)\n",
    "\n",
    "# To see the results, hold down 'SHIFT' and press 'ENTER' again.\n",
    "# If the results don't look good, it's time to go back and change some of the numbers we've set so far"
   ]
  },
  {
   "cell_type": "code",
   "execution_count": null,
   "metadata": {
    "collapsed": false,
    "deletable": true,
    "editable": true
   },
   "outputs": [],
   "source": [
    "# We only look at a small part of the image to find lane lines - no need to look for lane lines in the sky!\n",
    "# We call this the \"REGION OF INTEREST\"\n",
    "# Hold 'SHIFT' and press 'ENTER' to see the region in which we look for lane lines\n",
    "show_regions_of_interest()"
   ]
  },
  {
   "cell_type": "code",
   "execution_count": null,
   "metadata": {
    "collapsed": false,
    "deletable": true,
    "editable": true
   },
   "outputs": [],
   "source": [
    "# Now let's apply the region of interest to the masked images!\n",
    "# The function 'region_of_interest' will block out the parts of the image we don't care about right now\n",
    "# Hold 'SHIFT' and press 'ENTER' to see your results so far\n",
    "white_masked_edges = region_of_interest(white_lines_result)\n",
    "yellow_masked_edges = region_of_interest(yellow_lines_result)\n",
    "\n",
    "show_images(white_lines, white_masked_edges, yellow_lines, yellow_masked_edges)"
   ]
  },
  {
   "cell_type": "code",
   "execution_count": null,
   "metadata": {
    "collapsed": false
   },
   "outputs": [],
   "source": [
    "w = interact(show_hough_lines, masked_image1=fixed(white_masked_edges), masked_image2=fixed(yellow_masked_edges),\n",
    "            min_line_length=min_line_widget, max_line_gap=max_line_widget)"
   ]
  },
  {
   "cell_type": "code",
   "execution_count": null,
   "metadata": {
    "collapsed": true
   },
   "outputs": [],
   "source": [
    "# Now we put it all together!\n"
   ]
  }
 ],
 "metadata": {
  "kernelspec": {
   "display_name": "Python 3",
   "language": "python",
   "name": "python3"
  },
  "language_info": {
   "codemirror_mode": {
    "name": "ipython",
    "version": 3
   },
   "file_extension": ".py",
   "mimetype": "text/x-python",
   "name": "python",
   "nbconvert_exporter": "python",
   "pygments_lexer": "ipython3",
   "version": "3.5.2"
  },
  "widgets": {
   "state": {
    "0011ab88c26945439aaece15aa37142a": {
     "views": []
    },
    "006d277c01a54a57a00dae3c81be2290": {
     "views": []
    },
    "028099d026a24595bdb0ef4947dd9713": {
     "views": []
    },
    "02f36c89be1842999a7f99820a0193e2": {
     "views": []
    },
    "035fbc771d4b4c0795193f5ec1d5a47c": {
     "views": []
    },
    "057340f6f24f48c6aa83c298af941ee1": {
     "views": []
    },
    "06f0bd3ee06141708e99d1f805788a7a": {
     "views": []
    },
    "08403c1ebf534831a11a02cafda1538e": {
     "views": []
    },
    "08835a7139814df09b100875a64e4c45": {
     "views": []
    },
    "0a76a6c88f794a01ae2b663a61686daf": {
     "views": []
    },
    "0b914a3e59f04a2a83d013ca1c8ddf1a": {
     "views": []
    },
    "0ba663e0e3e140bdab91d6af9c86ef7e": {
     "views": []
    },
    "0dadd48a461846659f8361c84af21369": {
     "views": []
    },
    "0e4db57df8c94c6dbbbdda91186517bd": {
     "views": []
    },
    "1033098ff55a42ebaa1fe83744fe246c": {
     "views": []
    },
    "10b0181db7aa4f1596c031315887faeb": {
     "views": []
    },
    "10bcbffd167f4941899a2b60e5250a08": {
     "views": []
    },
    "116d37ff0a0c49ed83b3511b3e8e126a": {
     "views": []
    },
    "11ab36b1c69f425cbaefd3460651bac7": {
     "views": []
    },
    "129f9f61789847368e79831add21e21a": {
     "views": []
    },
    "12ee6f3ca6f64c8aa613a6056cfed3f8": {
     "views": []
    },
    "13782eb3121648d89e9870a5e13e3ad0": {
     "views": []
    },
    "14d2bfaa50bf4b56ba3f4ed22574e55f": {
     "views": []
    },
    "16c711fd702e4a67ac74149d4f11b382": {
     "views": []
    },
    "16fb54fa666b4ad4a3d4b09bb77dafa7": {
     "views": []
    },
    "18d925d0770b48ddb759b603bb68b0a3": {
     "views": []
    },
    "1944e194826b487baea5ff698e280b46": {
     "views": []
    },
    "1a0e8d02b88d421b9182543bf24944c5": {
     "views": []
    },
    "1a5f78270f6742f1bc9c83e0ce83205c": {
     "views": []
    },
    "1bcead60e47c473382fc351f145010f4": {
     "views": []
    },
    "1c02d499d6e14ca1a64e9a1d5ee84592": {
     "views": []
    },
    "1cc0a16ec58f4f14b7efaf6ea8bb81c1": {
     "views": []
    },
    "1d16cda720af4a6fb22ccb2139a75232": {
     "views": []
    },
    "1d1df65afb1b4b139ea148b63b76b7d7": {
     "views": []
    },
    "1d4e725f3eb543ada4a5d1d22dd1cb9c": {
     "views": []
    },
    "1d973e0df5d1493c9871d3ea8bdb6a7a": {
     "views": []
    },
    "1e61d4de40894509bc0cec55c66d9234": {
     "views": []
    },
    "1f4eb955bf154fa28ba468ca112543bb": {
     "views": []
    },
    "1f794afd7af1493985efbe9abf1e75be": {
     "views": []
    },
    "1f7c4726ad8b4099873c54c06a362b6c": {
     "views": []
    },
    "22f5c455d14e4ca69e2b9a010f4e819b": {
     "views": []
    },
    "235ec17d0d264701bfc30731f16f82a0": {
     "views": []
    },
    "23df62709ac14e209365a29c1b35a4b4": {
     "views": []
    },
    "2411b1b21da24ebeb22c4544ccc860b3": {
     "views": []
    },
    "252302f15f5b4515bdb8a6837addd4b4": {
     "views": []
    },
    "25b1c2b2e797452b9f1543865f08dea6": {
     "views": []
    },
    "260099b0b9144e9ba50f976b27791763": {
     "views": []
    },
    "28f3eae08f9545229d20468e521ce2fe": {
     "views": []
    },
    "2902716172c7409884adb3470c2503ef": {
     "views": []
    },
    "29d8ded4d43243668d1976b00f789eb4": {
     "views": []
    },
    "2c8aed26f743471784029500b742151e": {
     "views": []
    },
    "2d19bb7ffd8f45d39ed0c4d7ab74196a": {
     "views": []
    },
    "2e0338615c9248ff8eabf2b24675199f": {
     "views": []
    },
    "2e99d0b744ac404db164937298dbbb86": {
     "views": []
    },
    "2eb033ee33944412be1ce8f60dfc0267": {
     "views": []
    },
    "2f7b854acb994dbfb136b12c383edcb6": {
     "views": []
    },
    "2fa5c680ba904dbca3b064f019c3c1b5": {
     "views": []
    },
    "3199f665c8eb4f0b87f61862e29c294c": {
     "views": []
    },
    "322effdf7e3e436d87c0abba81d7a45b": {
     "views": []
    },
    "34200863797b4c2a912a7505e189308a": {
     "views": []
    },
    "34f0d6ac40e04d4aba9c0089f37b4657": {
     "views": []
    },
    "36ca43bcf78949cca84886c8f24e3ab4": {
     "views": []
    },
    "377280e8745248a0ba05ca2c83e91ed6": {
     "views": []
    },
    "3a33ae9675714d99b8edf927509f6f18": {
     "views": []
    },
    "3c2a3ba9af1447a9ae1f01f0b5fa4651": {
     "views": []
    },
    "3cc2129eb6db476786ae7b5abc873805": {
     "views": []
    },
    "3d2483048ae44db687284af74dd854e1": {
     "views": []
    },
    "3e39f583e2c7498a989ee85edf233a56": {
     "views": []
    },
    "3f99f8be088b4c20a8b85e2b09663d25": {
     "views": []
    },
    "4011a90e126b4a7c86c7e5481e20ecb2": {
     "views": []
    },
    "409e7952184c4329a4f39615e00b6250": {
     "views": []
    },
    "40e30b7213704e7fac2e1a97d670f83c": {
     "views": []
    },
    "42916365dce543ee81cb02c5f3c01510": {
     "views": []
    },
    "429e18868ccb4de691a9b01d02dca1b7": {
     "views": []
    },
    "434f658dbffb4fbe9007d93a88ecbbb3": {
     "views": []
    },
    "43d1d3c151a64047aa23629fe928cfa4": {
     "views": []
    },
    "452bd1f4acaa4c3a9d0cc5f391deab61": {
     "views": []
    },
    "465d0f01fe5b4cb39bf33d3c44192c57": {
     "views": []
    },
    "4690d9d25fb340c4ba5b1849698c1146": {
     "views": []
    },
    "470fc944d49c49eeaf522fc2afbea59e": {
     "views": []
    },
    "47bcdb4caa234d749ac9e7e9aaccdbeb": {
     "views": []
    },
    "49616335df6144ab880aba571685fd2d": {
     "views": []
    },
    "4966ec18d97f47bda95cb7233f6992c1": {
     "views": []
    },
    "4b83eed5759f4331ae05bdc453b9cff2": {
     "views": []
    },
    "4bf4b946eca74cf9862472514250e84f": {
     "views": []
    },
    "513b0cf30f0941bbaae1d7d50c67a027": {
     "views": []
    },
    "51789f899da64de5abf2574859d75be2": {
     "views": []
    },
    "5290c9a2bcc140b98ce90de0f0f1591f": {
     "views": []
    },
    "57f1385bcbd546d48e8dc6542264dba8": {
     "views": []
    },
    "58d7033114d844169a8fb20ae2f70f8d": {
     "views": []
    },
    "591116f5e6904b8ebc13bf6e43aaf81a": {
     "views": []
    },
    "591c7327e62e4fa8816ac25481cb4158": {
     "views": []
    },
    "5a2f2e5883464c7f93e5a91db4c14de9": {
     "views": []
    },
    "5b9692880ad94c6997b91116a5923d22": {
     "views": []
    },
    "5be66dfb257a4462a480332ba9ab41b9": {
     "views": []
    },
    "5d0b1fb31b0346c58579acab7216ee6d": {
     "views": []
    },
    "5d3c5f6c0d7c4b59a544c6f06d69f230": {
     "views": []
    },
    "5f8ec710eada455fb5d856f89e905095": {
     "views": []
    },
    "60995ad0fd68445d8acbb82a8771d5a7": {
     "views": []
    },
    "6166d5adb1b047bdb547dd79bfc29c99": {
     "views": []
    },
    "61ed38d7027749e2bcb7dfc7f255ac3d": {
     "views": []
    },
    "69437b5c9fe04747878e661c46289988": {
     "views": []
    },
    "6af4dcd7b8474fc185f36871396e5f2f": {
     "views": []
    },
    "6b3dae59b31b4d6aac9d3c34e1147930": {
     "views": []
    },
    "6bb087b7247e423b8387ae927d555b68": {
     "views": []
    },
    "6c1beb724170478180a8a73abe3c689d": {
     "views": []
    },
    "6ce4ab0c7b7a48bb825edd79ff869679": {
     "views": []
    },
    "6d530e342bf641a9ac82cf090e7226b5": {
     "views": []
    },
    "711628ce3dd64271bcd86b05a16b26a8": {
     "views": []
    },
    "726110891e46479ebcb1d5681d3e7c7e": {
     "views": []
    },
    "730a6d903c614eae90e064d38f96697e": {
     "views": []
    },
    "760042de778e4edf96b58f94017410f3": {
     "views": []
    },
    "77ea8aa282b44b83b3197c6f1c420e76": {
     "views": []
    },
    "780dbe2fb3a349b2bad83da22a2e547e": {
     "views": []
    },
    "780e572277d046dcac5df12302f7508d": {
     "views": []
    },
    "786136f3b9a840749eca655771a9d0ee": {
     "views": []
    },
    "79056f0a4d354721ae1f81049e3e2f73": {
     "views": []
    },
    "791a1eb4c41e45669704f93b580ee496": {
     "views": []
    },
    "7b017629fdfa4e2daaaca4dd8f5a8194": {
     "views": []
    },
    "7e7ab26cd89240e89a390362f8d9931e": {
     "views": []
    },
    "7ebc0486891d486ea4f126b92469bd4b": {
     "views": []
    },
    "7f576ecd41d1447380b7de2d391e9b51": {
     "views": []
    },
    "809f2c3a7f21452cbc18e57212fffafe": {
     "views": []
    },
    "8170b21b61ee4ad98e9742b69752e29f": {
     "views": []
    },
    "86b8d463657f49a385b4158069c3ccd7": {
     "views": []
    },
    "86bf121cb5ba480fbd3b6290fd8f1d0d": {
     "views": []
    },
    "86f1c7d82cc24fc4ba6228b715c84742": {
     "views": []
    },
    "87041d11ea644bbea71c289bdc22e2d8": {
     "views": []
    },
    "8979e802a669480a928c5f004ad6cec5": {
     "views": []
    },
    "8a17ff61cd974332be3d9a2a42e843f0": {
     "views": []
    },
    "8b10b87887d8407dbf5c0308a112688d": {
     "views": []
    },
    "8b6aa0d34de64649a78bbac5d7062092": {
     "views": []
    },
    "8d40746326e34007ae0b2cfade5bd098": {
     "views": []
    },
    "8fa691a0e1b94d1abfdb554c4a75a61c": {
     "views": []
    },
    "8ff002c818ae450db2131575c6d46340": {
     "views": []
    },
    "91a609e084fe499f8e3088cd8c0fa019": {
     "views": []
    },
    "92430e3b50c947c3955e9dcba2fc1d20": {
     "views": []
    },
    "92b80d123c1a4e84b05f4b008fca45cf": {
     "views": []
    },
    "92d1d6bef9af4dd6b5e9a8ec8b4cee81": {
     "views": []
    },
    "92f66b6ccf0d456b8a8f20afbaecada6": {
     "views": []
    },
    "93a7ae0581f044188e92900a46081203": {
     "views": []
    },
    "93f91bfe01e94850af114b170675ebe3": {
     "views": []
    },
    "9477ecadedde46a3ae19bbb505b1a19e": {
     "views": []
    },
    "95e6310ec4c448f08a5716a79756c45c": {
     "views": []
    },
    "965f853ee6ee4f968c5dd488987443f5": {
     "views": []
    },
    "975b1b4f9dc046fbaec03ab3ca17d726": {
     "views": []
    },
    "983f7f89028e4d05a5fdad483b445544": {
     "views": []
    },
    "98fd74fc3d6243dea52a665cb804e4f6": {
     "views": []
    },
    "991f42e702e14131ad9fd29281fb4c80": {
     "views": []
    },
    "9940515a11444849bf3173d19f6c387f": {
     "views": []
    },
    "9a2ce6fb96c2449080b48326f84802d5": {
     "views": []
    },
    "9b0272edbe4f4cfaa2e0a26a7a0430e1": {
     "views": []
    },
    "9b99cda6bfea409eab82aa1e064c1f7d": {
     "views": []
    },
    "9c4757c1b7c848ecb7a93cb1dd91763f": {
     "views": []
    },
    "9d40e06d0e9849818b3a8551f7a44c35": {
     "views": []
    },
    "9d4403c91b0a46fbaf666828833b0718": {
     "views": []
    },
    "9e4cc185cd40435494873964e85be1c1": {
     "views": []
    },
    "a0d05ddcd498443092f0dd3eae0de0bc": {
     "views": []
    },
    "a1af00b64c774c0bb50899e521b279ef": {
     "views": []
    },
    "a22dc066732d49e4b8ff1452f8e13a10": {
     "views": []
    },
    "a327581213ec4bc2bd13c972335373d2": {
     "views": []
    },
    "a50185b9ded0441798a64337ca6a9c86": {
     "views": []
    },
    "a50d048c6e9e4771b548e025e93aa4f3": {
     "views": []
    },
    "a55592f45291432184e5888d40e29bcd": {
     "views": []
    },
    "a55b2915de08402ba84d8a554ffeec3d": {
     "views": []
    },
    "a59e5f026a7947e5968e56d7f05609d5": {
     "views": []
    },
    "a648915d7cd54547bcb61ff02ecbb8f6": {
     "views": []
    },
    "a660bbb8d6b44ccba6c3d5c9781bd069": {
     "views": []
    },
    "a710997196e246d1a8a91ac243f34706": {
     "views": []
    },
    "a73cab54febb4711921437fba4bc540c": {
     "views": []
    },
    "a975ab54c00949568d281c70fde94338": {
     "views": []
    },
    "a987a62e0b554177b87b2432a6686daf": {
     "views": []
    },
    "aa2e072255484845844c4205ef276609": {
     "views": []
    },
    "aa2e670afe5649c0afc3ef408cbe652c": {
     "views": []
    },
    "aa7cc29cca214cc48eccdc757873ec55": {
     "views": []
    },
    "abd6df31c882458793d76b2775c97d7e": {
     "views": []
    },
    "ac07471ebf1b46ec8f34ea05d9a96f90": {
     "views": []
    },
    "ae87c93b51074d68b6a59673de64e8f3": {
     "views": []
    },
    "b0a8cfcf46ae4798adbb5d7398cfd3b2": {
     "views": []
    },
    "b1c1fcdff875490ca9b466b210039359": {
     "views": []
    },
    "b2e4f921e687402ab052581a7f6ad824": {
     "views": []
    },
    "b53ba18194984abebbc9a47c122d3690": {
     "views": []
    },
    "b731ee3eb884490e985b2b8eeddae6f2": {
     "views": []
    },
    "b8a9bccf6f5c485b89386f973751c080": {
     "views": []
    },
    "b9687ad08e4b4f5a861f9543338dbbef": {
     "views": []
    },
    "b9bc308a72094b41a34b088b8918a1ab": {
     "views": []
    },
    "b9bf33b15b1549dc8d6624fbcac07dab": {
     "views": []
    },
    "bd21b41808864e4cb2e0e68d8f2201b9": {
     "views": []
    },
    "bda92a836dc443a28f76e2322e6911d6": {
     "views": []
    },
    "bde35a607a23428e9bab2f4adf7a2273": {
     "views": []
    },
    "bdf348b21aa842f2800737baf5a62018": {
     "views": []
    },
    "be5a53e7fcb74f5bafedd4468eb25971": {
     "views": []
    },
    "c1ad8f5dc6544956ba05582f3d622c30": {
     "views": []
    },
    "c284f8fd1e334b9ba5cc3f2672bcff76": {
     "views": []
    },
    "c30b2131e3c04760a3d551de16a2f37a": {
     "views": []
    },
    "c4916bb76506475ba7034b8153f96afb": {
     "views": []
    },
    "c4f1d8d1a2994bfa9d9e04fdf9fa2615": {
     "views": []
    },
    "c63918094bca47b08f22f4327109d516": {
     "views": []
    },
    "c63bc5507c634a8395e5eb2dc7695655": {
     "views": []
    },
    "c831a9a732bd4a53a8ee414e22558faa": {
     "views": []
    },
    "c8c2c6e1826a4715bdeb1821dc4e58c3": {
     "views": []
    },
    "c9f96609b2d24cc4b19c714e99e84b12": {
     "views": []
    },
    "cb27da6f271640a5a95268d4fc5f11ba": {
     "views": []
    },
    "cd357a7101424ab1b7cd3de693b143aa": {
     "views": []
    },
    "cd4db309fd2f476eb8b487fcb35b36fd": {
     "views": []
    },
    "cd56cf537de24b858f36c1ff9111427d": {
     "views": []
    },
    "cdb732b253ef494896ff74a65fcaed74": {
     "views": []
    },
    "cdd9177d8aa14445943e01cb39c6153c": {
     "views": []
    },
    "d0219e071c824c67a07034c3dbad6e14": {
     "views": []
    },
    "d0316a2633d64ba898d6db9becb67b67": {
     "views": []
    },
    "d14b7ac5a8134f3884646676f47a121a": {
     "views": []
    },
    "d3beb8ec77a74ba8be99d8370822a9da": {
     "views": []
    },
    "d3f2ab3af772429581dcba0bfea5e0a9": {
     "views": []
    },
    "d4216604abdd4f41ba5425caf61e81c3": {
     "views": []
    },
    "d4534a674166466696066ffa29a92196": {
     "views": []
    },
    "d4742804d7514da8863a17fd3cef0812": {
     "views": []
    },
    "d58a63336f344c8e86c4e0694612fe3e": {
     "views": []
    },
    "d6c4d7f9192d4280aecae20a6cc4c842": {
     "views": []
    },
    "d891fdfe0aee474a901830b6de9c4a10": {
     "views": []
    },
    "dc3b690c67e14a929953640142cc4a97": {
     "views": []
    },
    "dccb23a8e12a4600bd13d786bba16eca": {
     "views": []
    },
    "dd00f499eaa14313ad59b3694de632ed": {
     "views": []
    },
    "dd0a31b96bc14e49bf6bbbaaaccb4f51": {
     "views": []
    },
    "dee4dc6addca4954883c02092c0d7cda": {
     "views": []
    },
    "df8ed7ff6a7d4eb9a62796a5c24fc788": {
     "views": []
    },
    "e10cbd18afc9411da09bfaf2278b7b83": {
     "views": []
    },
    "e1d5435538144a69951155e2702302c1": {
     "views": []
    },
    "e2de8fcf4aea42a4bb210554c3531234": {
     "views": []
    },
    "e3b9be841b8a4376a08794a91d5edba5": {
     "views": []
    },
    "e3d2abe6f0154af38bfbfd8aefb5f275": {
     "views": []
    },
    "e546f172b1044467b696e1f0946d8bb3": {
     "views": []
    },
    "e57c52d4bd6042788fcc32edd7b03d25": {
     "views": []
    },
    "e6c7d0a096f0469cb4d206971ab96743": {
     "views": []
    },
    "e80176f250424d16b0eaa5aca131f1f6": {
     "views": []
    },
    "e8a39fcf64c24af489269064b9346b2a": {
     "views": []
    },
    "ea73ad9756ac47d290822caf01692a0c": {
     "views": []
    },
    "eaf4e55c28eb4ff5b0c09eb485598151": {
     "views": []
    },
    "eb5d847ec23e40d98c9da434663132c1": {
     "views": []
    },
    "eb7a0f614cae4e2c93adceffc281d562": {
     "views": []
    },
    "ed81b6fc746941fc8c1f2111d17012a4": {
     "views": []
    },
    "ef163f10c7d546fda25b9bd8ae7b1150": {
     "views": []
    },
    "ef488e0845bf452cbee727679955bb03": {
     "views": []
    },
    "f05209a8f626456fa53b965e2b0d27f1": {
     "views": []
    },
    "f08642f8c7eb4df480f4ae8e3e5725ab": {
     "views": []
    },
    "f11c36e37e434d1ebe0b7f0446d9dd71": {
     "views": []
    },
    "f13b4938d5f7445bb46b1ed124ebd7c2": {
     "views": []
    },
    "f1ecd77f679e4e07a24626398bba05a4": {
     "views": []
    },
    "f3e11956388d44aab1796b62f2d32661": {
     "views": []
    },
    "f4f647677bda4a46b8fb4a9dc852817b": {
     "views": []
    },
    "f50500769da244f4b9ce5566d63b45d3": {
     "views": []
    },
    "f73c70666bdd4ee8a2bef07f2a474731": {
     "views": []
    },
    "f89149a3476f4df0a527ac5e6431a524": {
     "views": []
    },
    "f8d768c744b24da3ba1333b5b741c488": {
     "views": []
    },
    "f8d9ab4e318f40628d9e998e39547559": {
     "views": []
    },
    "f9ed7cefbf49469ba66610351dabb186": {
     "views": []
    },
    "fa2d597ebbb841c29b5f384151fc9f64": {
     "views": []
    },
    "fb3a5ba066da433a9c81d505a60b0dc7": {
     "views": []
    },
    "fc017841ef994dc196a8708747220827": {
     "views": []
    },
    "fc5d3f4236e843dc945865cd8720d664": {
     "views": []
    },
    "fd55be7c02b14326b8826287b975a9c5": {
     "views": []
    },
    "feaf914ea98f4a2f959b22ef078fdbb1": {
     "views": []
    },
    "fef7cf26be49498bae22128e58468de4": {
     "views": []
    },
    "ff62a0c38f5849aa9188c7f2c808a115": {
     "views": []
    },
    "ff92cfc335334a00afc3eb0e4a537570": {
     "views": []
    }
   },
   "version": "1.1.2"
  }
 },
 "nbformat": 4,
 "nbformat_minor": 2
}
