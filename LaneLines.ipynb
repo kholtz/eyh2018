{
 "cells": [
  {
   "cell_type": "code",
   "execution_count": null,
   "metadata": {
    "collapsed": false,
    "deletable": true,
    "editable": true,
    "scrolled": false
   },
   "outputs": [],
   "source": [
    "from secret_sauce import *\n",
    "from ipywidgets import interact\n",
    "%matplotlib inline\n",
    "\n",
    "w = interact(show_color_threshold_results, red=red_widget, blue=blue_widget, green=green_widget)"
   ]
  },
  {
   "cell_type": "code",
   "execution_count": null,
   "metadata": {
    "collapsed": false,
    "deletable": true,
    "editable": true,
    "scrolled": false
   },
   "outputs": [],
   "source": [
    "w = interact(show_edge_detection_results, low_threshold=low_widget, high_threshold=high_widget)"
   ]
  },
  {
   "cell_type": "code",
   "execution_count": null,
   "metadata": {
    "collapsed": false,
    "deletable": true,
    "editable": true
   },
   "outputs": [],
   "source": [
    "# TODO(kristen): Add button to \"rerun\"\n",
    "show_masking_results()"
   ]
  },
  {
   "cell_type": "code",
   "execution_count": null,
   "metadata": {
    "collapsed": false,
    "deletable": true,
    "editable": true
   },
   "outputs": [],
   "source": [
    "show_regions_of_interest()"
   ]
  },
  {
   "cell_type": "code",
   "execution_count": null,
   "metadata": {
    "collapsed": false
   },
   "outputs": [],
   "source": [
    "show_hough_lines()"
   ]
  },
  {
   "cell_type": "code",
   "execution_count": null,
   "metadata": {
    "collapsed": true
   },
   "outputs": [],
   "source": []
  }
 ],
 "metadata": {
  "kernelspec": {
   "display_name": "Python 3",
   "language": "python",
   "name": "python3"
  },
  "language_info": {
   "codemirror_mode": {
    "name": "ipython",
    "version": 3
   },
   "file_extension": ".py",
   "mimetype": "text/x-python",
   "name": "python",
   "nbconvert_exporter": "python",
   "pygments_lexer": "ipython3",
   "version": "3.5.2"
  },
  "widgets": {
   "state": {
    "0068073162da4c3b9bed09bbbb0fc251": {
     "views": []
    },
    "071a8a356d3f4cc3a8e40a2da80e3572": {
     "views": []
    },
    "0be3ae15a9934cf8a23520f18915a8aa": {
     "views": []
    },
    "0c523507eea247ef8cd72e974d2d30f1": {
     "views": []
    },
    "16c938db2976458ebbc7fd90cb206266": {
     "views": []
    },
    "18990907d46f498296b97d4c2fc7c76d": {
     "views": []
    },
    "1cb4eae3f5614db381f06bb3318bee97": {
     "views": []
    },
    "1db6e5ddfadb4c768a7467c975c945e3": {
     "views": []
    },
    "2559148160484042b4522cbfee2ad4ff": {
     "views": []
    },
    "25dd08de44a443f5b74c4ebac648a4fc": {
     "views": []
    },
    "26ea182c1a7446d4ad68196f09a275e3": {
     "views": []
    },
    "2b749955850743e0af1bf76695661ab9": {
     "views": []
    },
    "2c2d147eeed24d379b139efbc0779d79": {
     "views": []
    },
    "2cc3584d197a4821abe2aef2cb896116": {
     "views": []
    },
    "316b953b60144b81af44f05d775107e1": {
     "views": []
    },
    "34bccffb3c3f48bab4d00c489c6891e2": {
     "views": []
    },
    "3997a96ae8af4fb18562ea1f545410c9": {
     "views": []
    },
    "3a3a658e626a48ffae5cb6162cf788e8": {
     "views": []
    },
    "41d6e95c8ab244019c948281305573e0": {
     "views": []
    },
    "454dc370c89f4255b139f9c89417a5ff": {
     "views": []
    },
    "4619235926464c26a3a3361d3e88f6a1": {
     "views": []
    },
    "4782fb906b6647acbdd000624273a384": {
     "views": []
    },
    "4a3daf8fa5004ae4b8c00049822894ef": {
     "views": []
    },
    "4c0a71d78fcf41b79b9f965c8b2a7af4": {
     "views": []
    },
    "5045962faef7445081fcbd48bdb9d9a1": {
     "views": []
    },
    "515ab1c9b44a447ab469cb7662279eb9": {
     "views": []
    },
    "60fcde136b2841068d98defd9adb3da4": {
     "views": []
    },
    "69a4be2666ed4032a11369678c2c7735": {
     "views": []
    },
    "6efce6a392ff43ba94c395fc04817562": {
     "views": []
    },
    "6f42c21a3ee64f3b863a1a15d74cd4ed": {
     "views": []
    },
    "6f7edcf45bc64d10bb311a58272852ce": {
     "views": []
    },
    "766c95de32ef4ec985024ca73b5b2b22": {
     "views": []
    },
    "77d5ae526f0c469f9f857ce0e7caa012": {
     "views": []
    },
    "77dd8f93791c4fde8682c945fabc8d82": {
     "views": []
    },
    "7944e8c040ae416eafb0a6ed1ae8999d": {
     "views": []
    },
    "7a7802317f7042bc870d3255b3cdb261": {
     "views": []
    },
    "7cdb439dfe2b4f6bbbff1f1d2482f0c4": {
     "views": []
    },
    "7e099dfed9b5450e8510305eddddad43": {
     "views": []
    },
    "7e975ce2f3984155b31932832b974997": {
     "views": []
    },
    "7eede026d7b949a2aaecff3c2f05d4ae": {
     "views": []
    },
    "8374b486cebf4ba5a306e7d6cb379a21": {
     "views": []
    },
    "83fde10a6a0648ddb8b394cce7e1e399": {
     "views": []
    },
    "86b1ce096fd94d52a5bfed379bb0c6a7": {
     "views": []
    },
    "89e83a786e4c49bc923f7883ae19a639": {
     "views": []
    },
    "8c8c3494dc1641cc98fabd52f31165d8": {
     "views": []
    },
    "8e4d2e5900534804b8209ee2e41107b6": {
     "views": []
    },
    "9468c2c4e89f4597b8c660d8c582c75c": {
     "views": []
    },
    "9e00282d175e49a1b773bb50e49b80f3": {
     "views": []
    },
    "9f02ffb048af4fa1928fac33cdd633a7": {
     "views": []
    },
    "a0ce8bc6c0144fe597b959c23f30cc35": {
     "views": []
    },
    "a5c7e9133c0544468ff1f39c9209beb2": {
     "views": []
    },
    "a606175e8ac343258361f79fd5fd15c4": {
     "views": []
    },
    "b04fd1ed5f4145dc90f4037f251e02b3": {
     "views": []
    },
    "b1ed66ae0a78484a890f987a131b1ab2": {
     "views": []
    },
    "b26648756a9b48a59d625dc6dacab619": {
     "views": []
    },
    "b3e0e97948d64b6b80e2115bafc43536": {
     "views": []
    },
    "bb9038caf83a4f709eb4902edb67c38e": {
     "views": []
    },
    "bf85e8a5968845ae95a55145384d5d12": {
     "views": []
    },
    "c0514c7ba14743bdbcf5fa3426406db5": {
     "views": []
    },
    "c259886ea547432f8fa3fd14f8dfef12": {
     "views": []
    },
    "cb9578186bbe46ea8f269412e271e99e": {
     "views": []
    },
    "cd5fbc877f594a68880255e4552a56ab": {
     "views": []
    },
    "ce6c5598b9664d068b0c7aeb9ca30448": {
     "views": []
    },
    "cf02ad48d51f4c43a36d245d4c23ec40": {
     "views": []
    },
    "d1833f75ed57488eaf0ee947c039b098": {
     "views": []
    },
    "d56d9ac1b65b457b98767362e3c8934a": {
     "views": []
    },
    "d8be6b8955d547ffa34a08832c7d61a0": {
     "views": []
    },
    "e2330d6b0ee84ca785cd7c1ffaa89fbb": {
     "views": []
    },
    "ec05fd46310a4ca491fd4feae836a05a": {
     "views": []
    },
    "f61041fb8c2241ce9eca917b523e20af": {
     "views": []
    },
    "f63b77990c9b4b14957cd35f08665fd4": {
     "views": []
    },
    "f89f236f5124477dbfc829264d535abd": {
     "views": []
    }
   },
   "version": "1.1.2"
  }
 },
 "nbformat": 4,
 "nbformat_minor": 2
}
